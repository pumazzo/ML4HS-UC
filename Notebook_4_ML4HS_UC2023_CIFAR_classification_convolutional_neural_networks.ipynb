{
  "nbformat": 4,
  "nbformat_minor": 0,
  "metadata": {
    "colab": {
      "provenance": [],
      "machine_shape": "hm",
      "gpuType": "V100",
      "authorship_tag": "ABX9TyM8fRXVyD+JWzNvCVKDciV9",
      "include_colab_link": true
    },
    "kernelspec": {
      "name": "python3",
      "display_name": "Python 3"
    },
    "language_info": {
      "name": "python"
    },
    "accelerator": "GPU"
  },
  "cells": [
    {
      "cell_type": "markdown",
      "metadata": {
        "id": "view-in-github",
        "colab_type": "text"
      },
      "source": [
        "<a href=\"https://colab.research.google.com/github/pumazzo/ML4HS-UC/blob/main/Notebook_4_ML4HS_UC2023_CIFAR_classification_convolutional_neural_networks.ipynb\" target=\"_parent\"><img src=\"https://colab.research.google.com/assets/colab-badge.svg\" alt=\"Open In Colab\"/></a>"
      ]
    },
    {
      "cell_type": "code",
      "execution_count": 1,
      "metadata": {
        "id": "qL26fKBFcV-2",
        "colab": {
          "base_uri": "https://localhost:8080/"
        },
        "outputId": "bc45f4c2-e07a-4550-f752-6e94ee95c95f"
      },
      "outputs": [
        {
          "output_type": "stream",
          "name": "stdout",
          "text": [
            "Downloading https://www.cs.toronto.edu/~kriz/cifar-10-python.tar.gz to ./data/cifar-10-python.tar.gz\n"
          ]
        },
        {
          "output_type": "stream",
          "name": "stderr",
          "text": [
            "100%|██████████| 170498071/170498071 [00:01<00:00, 98440679.50it/s] \n"
          ]
        },
        {
          "output_type": "stream",
          "name": "stdout",
          "text": [
            "Extracting ./data/cifar-10-python.tar.gz to ./data\n",
            "Files already downloaded and verified\n"
          ]
        }
      ],
      "source": [
        "import torch\n",
        "import torch.nn as nn\n",
        "import torch.optim as optim\n",
        "import torchvision\n",
        "import torchvision.transforms as transforms\n",
        "from sklearn.metrics import confusion_matrix\n",
        "import matplotlib.pyplot as plt\n",
        "import numpy as np\n",
        "\n",
        "# Set random seed for reproducibility\n",
        "torch.manual_seed(42)\n",
        "\n",
        "# Load the CIFAR dataset and apply transformations\n",
        "transform = transforms.Compose([transforms.ToTensor(), transforms.Normalize((0.5,), (0.5,))])\n",
        "\n",
        "trainset = torchvision.datasets.CIFAR10(root='./data', train=True, download=True, transform=transform)\n",
        "testset = torchvision.datasets.CIFAR10(root='./data', train=False, download=True, transform=transform)\n",
        "\n",
        "classes = [\"airplanes\", \"cars\", \"birds\", \"cats\", \"deer\", \"dogs\", \"frogs\", \"horses\", \"ships\", \"trucks\"]\n",
        "\n",
        "# Create data loaders\n",
        "trainloader = torch.utils.data.DataLoader(trainset, batch_size=128, shuffle=True)\n",
        "testloader = torch.utils.data.DataLoader(testset, batch_size=128, shuffle=False)"
      ]
    },
    {
      "cell_type": "code",
      "source": [
        "#plot an element of the trainset using plt\n",
        "img, label = trainset[0]\n",
        "print(\"shape of an image : \" , img.shape)\n",
        "print(\"label for the image : \",  label)\n",
        "\n",
        "def plot_tensor_image(img, label):\n",
        "  # normalize\n",
        "  img = (img - img.amin(dim = (-1,-2),keepdim=True))/(img.amax(dim = (-1,-2),keepdim=True)-img.amin(dim = (-1,-2),keepdim=True))\n",
        "\n",
        "  f, ax = plt.subplots(1,figsize=(2,2))\n",
        "  ax.imshow(img.squeeze().numpy().transpose(1,2,0), cmap = \"Greys\",vmin=0,vmax=1)# img is a tensor, it is better to convert to numpy (using the method .numpy() )\n",
        "  ax.set_title(\"image of a {}\".format(classes[label]))\n",
        "plot_tensor_image(img, label)"
      ],
      "metadata": {
        "colab": {
          "base_uri": "https://localhost:8080/",
          "height": 272
        },
        "id": "TU0FYFTLcjuK",
        "outputId": "794f94f3-f5a8-4ba3-bd00-c214b0aa3456"
      },
      "execution_count": 2,
      "outputs": [
        {
          "output_type": "stream",
          "name": "stdout",
          "text": [
            "shape of an image :  torch.Size([3, 32, 32])\n",
            "label for the image :  6\n"
          ]
        },
        {
          "output_type": "display_data",
          "data": {
            "text/plain": [
              "<Figure size 200x200 with 1 Axes>"
            ],
            "image/png": "[encoded data removed]"
          },
          "metadata": {}
        }
      ]
    },
    {
      "cell_type": "markdown",
      "source": [
        "## Mini - batches with the dataloader.\n",
        "We need to sample B elements from our dataset (without repetitions) to form a batch.\n",
        "\n",
        "We can use the dataloader from pyTorch:\n",
        "- it will take a dataset and a batch size (B) as an argument\n",
        "- each time it is called it will return B elements (random, if shuffle == True) from the dataset.\n",
        "- when the elements are exausted the dataloader will reset itself.\n",
        "\n"
      ],
      "metadata": {
        "id": "Jhv_JAAAeNVf"
      }
    },
    {
      "cell_type": "code",
      "source": [
        "for minibatch in trainloader:# loop over batches\n",
        "  batch_of_images,  batch_of_labels = minibatch # unpack the batch\n",
        "  print(\"shape of the batch : \",batch_of_images.shape)\n",
        "  break # exit from the cicle, this way only the first batch will be printed"
      ],
      "metadata": {
        "id": "FONo4ovAcu67",
        "colab": {
          "base_uri": "https://localhost:8080/"
        },
        "outputId": "fc390ff2-e74a-4cf3-ca38-0970c2ca3c1d"
      },
      "execution_count": 3,
      "outputs": [
        {
          "output_type": "stream",
          "name": "stdout",
          "text": [
            "shape of the batch :  torch.Size([128, 3, 32, 32])\n"
          ]
        }
      ]
    },
    {
      "cell_type": "markdown",
      "source": [
        "# To build our neural network we will use pyToch layers:\n",
        "- it is the Base class for all neural network modules.\n",
        "- Our models should also subclass this class.\n",
        "- In general Modules will have parameters that we want to optimize, they will perform operations on some input and they will be \"derivable\" using the pytorch \"gradient\"\n",
        "\n"
      ],
      "metadata": {
        "id": "8Slr6XD2nfUf"
      }
    },
    {
      "cell_type": "markdown",
      "source": [
        "## This is an example of a class and a hint about class interitance\n",
        "We are going to use this \"way\" to exploit pytorch modules to buid our models"
      ],
      "metadata": {
        "id": "fA0YaFekoiwc"
      }
    },
    {
      "cell_type": "code",
      "source": [
        "class Parent():# this is a Class\n",
        "  def __init__(self):\n",
        "    self.name = None\n",
        "    self.introduction= \"Hi,son . \"\n",
        "  def give_name(self,name):# this is a method of Parent class\n",
        "    self.name =name\n",
        "  def speak(self):\n",
        "    if self.name is not None:\n",
        "      print(self.introduction+\"I am {}\".format(self.name))\n",
        "    else:\n",
        "      print(\"give name first\")\n",
        "\n",
        "class Child(Parent):# this is a child class. It has the same methods of Parent\n",
        "  def __init__(self):# Init is replaced. Everthing else is the same\n",
        "    self.name = None\n",
        "    self.introduction= \"Hi,Mama . \""
      ],
      "metadata": {
        "id": "2liflejqfZQ5"
      },
      "execution_count": 4,
      "outputs": []
    },
    {
      "cell_type": "code",
      "source": [
        "mama=Parent()# create a instance of class Parent\n",
        "mama.give_name(\"Marta\")# use a method (give name is a \"function\" inside the class)\n",
        "son=Child()# create a instance of class Child\n",
        "son.give_name(\"Andrea\")# we can use methods from the parent class\n",
        "\n",
        "mama.speak()# He can speak!\n",
        "son.speak()# He also can speak!"
      ],
      "metadata": {
        "id": "_ERz7Twsn3vf",
        "colab": {
          "base_uri": "https://localhost:8080/"
        },
        "outputId": "c08f8920-c5a8-486d-ae1a-d59a94ad7bdd"
      },
      "execution_count": 5,
      "outputs": [
        {
          "output_type": "stream",
          "name": "stdout",
          "text": [
            "Hi,son . I am Marta\n",
            "Hi,Mama . I am Andrea\n"
          ]
        }
      ]
    },
    {
      "cell_type": "code",
      "source": [
        "# layers can be used and defined, they are not very usefull on their own"
      ],
      "metadata": {
        "id": "kstW5ABRpC_2"
      },
      "execution_count": 6,
      "outputs": []
    },
    {
      "cell_type": "code",
      "source": [
        "# define a conv layer with one output\n",
        "my_conv_layer = nn.Conv2d(in_channels = 3, out_channels = 1, kernel_size = 3, stride = 1, padding = 0, dilation = 1)"
      ],
      "metadata": {
        "id": "cXR5Z-cytL9m"
      },
      "execution_count": 7,
      "outputs": []
    },
    {
      "cell_type": "code",
      "source": [
        "# now\n",
        "filtered_img = my_conv_layer(img.unsqueeze(0)).detach()# We need to add the bach dimention, # detach is used to remove the \"gradients\""
      ],
      "metadata": {
        "id": "UEO69o7ctsq4"
      },
      "execution_count": 8,
      "outputs": []
    },
    {
      "cell_type": "code",
      "source": [
        "operation = my_conv_layer.weight.detach().numpy().squeeze()\n",
        "plt.imshow(operation[0], cmap = \"seismic\")"
      ],
      "metadata": {
        "id": "VFruq4h0wB8D",
        "colab": {
          "base_uri": "https://localhost:8080/",
          "height": 452
        },
        "outputId": "4646f4ec-71b4-408a-9fd2-649fbeb81bcf"
      },
      "execution_count": 9,
      "outputs": [
        {
          "output_type": "execute_result",
          "data": {
            "text/plain": [
              "<matplotlib.image.AxesImage at 0x7b7aab3e2050>"
            ]
          },
          "metadata": {},
          "execution_count": 9
        },
        {
          "output_type": "display_data",
          "data": {
            "text/plain": [
              "<Figure size 640x480 with 1 Axes>"
            ],
            "image/png": "[encoded data removed]"
          },
          "metadata": {}
        }
      ]
    },
    {
      "cell_type": "code",
      "source": [
        "filtered_img.shape"
      ],
      "metadata": {
        "colab": {
          "base_uri": "https://localhost:8080/"
        },
        "id": "_I8ZypLIBcJn",
        "outputId": "796a2f6b-9d9e-4cfd-bd7a-34f82c7bf092"
      },
      "execution_count": 10,
      "outputs": [
        {
          "output_type": "execute_result",
          "data": {
            "text/plain": [
              "torch.Size([1, 1, 30, 30])"
            ]
          },
          "metadata": {},
          "execution_count": 10
        }
      ]
    },
    {
      "cell_type": "code",
      "source": [
        "def plot_filter_image(img, label):\n",
        "\n",
        "  f, ax = plt.subplots(1,figsize=(2,2))\n",
        "  ax.imshow(img.squeeze().numpy(), cmap = \"Greys\")# img is a tensor, it is better to convert to numpy (using the method .numpy() )\n",
        "  ax.set_title(\"image of a {}\".format(classes[label]))\n",
        "\n",
        "\n",
        "plot_filter_image(filtered_img, label)# this is a random filter"
      ],
      "metadata": {
        "id": "EOMD-OlUvfX0",
        "colab": {
          "base_uri": "https://localhost:8080/",
          "height": 237
        },
        "outputId": "f343c1a3-6e72-4704-a9b7-b0301a810f5b"
      },
      "execution_count": 11,
      "outputs": [
        {
          "output_type": "display_data",
          "data": {
            "text/plain": [
              "<Figure size 200x200 with 1 Axes>"
            ],
            "image/png": "[encoded data removed]"
          },
          "metadata": {}
        }
      ]
    },
    {
      "cell_type": "markdown",
      "source": [
        "## We can define by hand an operator and put it inside the conv layer.\n",
        "Usually a convolutional operation over an image is also called a filter.\n",
        "\n",
        "We can copy something from [HERE](https://matematicas.uam.es/~fernando.chamizo/dark/d_simimf.html)\n",
        "\n",
        "Usually we want that our neural network learns its own filter using gradient descend optimization but I want to show that \"human enegineered filters\" are just operation made on pixels"
      ],
      "metadata": {
        "id": "8aCZ1yjkyyXc"
      }
    },
    {
      "cell_type": "code",
      "source": [
        "# we can define by hand an operator and put it inside the conv layer.\n",
        "sharpen_filter = [[[0,-1,0],[-1,5,-1],[0,-1,0]],\n",
        "                  [[0,-1,0],[-1,5,-1],[0,-1,0]],\n",
        "                  [[0,-1,0],[-1,5,-1],[0,-1,0]]\n",
        "                  ]"
      ],
      "metadata": {
        "id": "eRGMXBVkvxS8"
      },
      "execution_count": 12,
      "outputs": []
    },
    {
      "cell_type": "code",
      "source": [
        "torch_sharpen = torch.tensor(sharpen_filter, dtype=my_conv_layer.weight.dtype)"
      ],
      "metadata": {
        "id": "ku3-J_Ktz-hv"
      },
      "execution_count": 13,
      "outputs": []
    },
    {
      "cell_type": "code",
      "source": [
        "torch_sharpen.shape"
      ],
      "metadata": {
        "colab": {
          "base_uri": "https://localhost:8080/"
        },
        "id": "8rZCpkc5DNe3",
        "outputId": "8804aec2-feeb-4a7b-8701-15392b51a2d9"
      },
      "execution_count": 14,
      "outputs": [
        {
          "output_type": "execute_result",
          "data": {
            "text/plain": [
              "torch.Size([3, 3, 3])"
            ]
          },
          "metadata": {},
          "execution_count": 14
        }
      ]
    },
    {
      "cell_type": "code",
      "source": [
        "# use the hand crafted filter instead\n",
        "my_conv_layer.weight = nn.Parameter(torch_sharpen.unsqueeze(0))# we need to put batch and channel dimention"
      ],
      "metadata": {
        "id": "nE0vOiIcz_TL"
      },
      "execution_count": 15,
      "outputs": []
    },
    {
      "cell_type": "code",
      "source": [
        "filtered_img = my_conv_layer(img.unsqueeze(0)).detach()\n",
        "plot_filter_image(filtered_img, label)# this is a sharpen filter"
      ],
      "metadata": {
        "id": "-Dfz831k1CxI",
        "colab": {
          "base_uri": "https://localhost:8080/",
          "height": 237
        },
        "outputId": "5738e509-9a00-4fe7-e233-07f4235fad28"
      },
      "execution_count": 16,
      "outputs": [
        {
          "output_type": "display_data",
          "data": {
            "text/plain": [
              "<Figure size 200x200 with 1 Axes>"
            ],
            "image/png": "[encoded data removed]"
          },
          "metadata": {}
        }
      ]
    },
    {
      "cell_type": "code",
      "source": [
        "# Define the CNN model\n",
        "import torch.nn.functional as F\n",
        "\n",
        "class CIFAR10Classifier(nn.Module):\n",
        "    def __init__(self):\n",
        "        super(CIFAR10Classifier, self).__init__()\n",
        "        # Convolutional layers\n",
        "        self.conv1 = nn.Conv2d(3, 16, kernel_size=3, stride=1, padding=1)\n",
        "        self.conv2 = nn.Conv2d(16, 32, kernel_size=3, stride=1, padding=1)\n",
        "        self.conv3 = nn.Conv2d(32, 64, kernel_size=3, stride=1, padding=1)\n",
        "        # Max pooling layer\n",
        "        self.pool = nn.MaxPool2d(kernel_size=2, stride=2)\n",
        "        # Fully connected layers\n",
        "        self.fc1 = nn.Linear(64 * 4 * 4, 128)\n",
        "        self.fc2 = nn.Linear(128, 64)\n",
        "        self.fc3 = nn.Linear(64, 10)\n",
        "        # Dropout layer\n",
        "        self.dropout = nn.Dropout(0.25)\n",
        "\n",
        "    def forward(self, x):\n",
        "        x = F.relu(self.conv1(x))\n",
        "        x = self.pool(x)\n",
        "        x = F.relu(self.conv2(x))\n",
        "        x = self.pool(x)\n",
        "        x = F.relu(self.conv3(x))\n",
        "        x = self.pool(x)\n",
        "        # Flatten the tensor\n",
        "        x = x.view(-1, 64 * 4 * 4)\n",
        "        # Apply dropout\n",
        "        x = self.dropout(x)\n",
        "        x = F.relu(self.fc1(x))\n",
        "        x = self.dropout(x)\n",
        "        x = F.relu(self.fc2(x))\n",
        "        x = self.fc3(x)\n",
        "        return x"
      ],
      "metadata": {
        "id": "Xtx0D0Ql5lZp"
      },
      "execution_count": 17,
      "outputs": []
    },
    {
      "cell_type": "code",
      "source": [
        "\n",
        "\n",
        "\n",
        "# Create an instance of the CNN model\n",
        "model = CIFAR10Classifier()\n",
        "\n",
        "\n",
        "# Define the loss function and optimizer\n",
        "criterion = nn.CrossEntropyLoss()\n",
        "optimizer = optim.Adam(model.parameters(), lr=3e-3)\n",
        "\n",
        "# this is a useful tool to print the structure of the model in a keras-like fashion ...\n",
        "from torchsummary import summary\n",
        "if torch.cuda.is_available():\n",
        "  summary(model.cuda(), input_size=(3,32,32))\n",
        "else:\n",
        "  summary(model, input_size=(3,32,32))"
      ],
      "metadata": {
        "id": "6J4Bwl1k1a7W",
        "colab": {
          "base_uri": "https://localhost:8080/"
        },
        "outputId": "590b2f7d-a24f-4bc8-8cdc-aad1437731c0"
      },
      "execution_count": 18,
      "outputs": [
        {
          "output_type": "stream",
          "name": "stdout",
          "text": [
            "----------------------------------------------------------------\n",
            "        Layer (type)               Output Shape         Param #\n",
            "================================================================\n",
            "            Conv2d-1           [-1, 16, 32, 32]             448\n",
            "         MaxPool2d-2           [-1, 16, 16, 16]               0\n",
            "            Conv2d-3           [-1, 32, 16, 16]           4,640\n",
            "         MaxPool2d-4             [-1, 32, 8, 8]               0\n",
            "            Conv2d-5             [-1, 64, 8, 8]          18,496\n",
            "         MaxPool2d-6             [-1, 64, 4, 4]               0\n",
            "           Dropout-7                 [-1, 1024]               0\n",
            "            Linear-8                  [-1, 128]         131,200\n",
            "           Dropout-9                  [-1, 128]               0\n",
            "           Linear-10                   [-1, 64]           8,256\n",
            "           Linear-11                   [-1, 10]             650\n",
            "================================================================\n",
            "Total params: 163,690\n",
            "Trainable params: 163,690\n",
            "Non-trainable params: 0\n",
            "----------------------------------------------------------------\n",
            "Input size (MB): 0.01\n",
            "Forward/backward pass size (MB): 0.28\n",
            "Params size (MB): 0.62\n",
            "Estimated Total Size (MB): 0.92\n",
            "----------------------------------------------------------------\n"
          ]
        }
      ]
    },
    {
      "cell_type": "code",
      "source": [
        "# define device to use (cpu/gpu)\n",
        "if torch.cuda.is_available():\n",
        "  print('# of GPUs available: ', torch.cuda.device_count())\n",
        "  print('First GPU type: ',torch.cuda.get_device_name(0))\n",
        "device = ('cuda' if torch.cuda.is_available() else 'cpu')\n",
        "print(f\"Computation device: {device}\\n\")\n",
        "\n",
        "model.to(device)"
      ],
      "metadata": {
        "colab": {
          "base_uri": "https://localhost:8080/"
        },
        "id": "CGYPMblhJ1dH",
        "outputId": "a0df15f2-f2cd-4df8-8393-279ccc5f384c"
      },
      "execution_count": 19,
      "outputs": [
        {
          "output_type": "stream",
          "name": "stdout",
          "text": [
            "# of GPUs available:  1\n",
            "First GPU type:  Tesla V100-SXM2-16GB\n",
            "Computation device: cuda\n",
            "\n"
          ]
        },
        {
          "output_type": "execute_result",
          "data": {
            "text/plain": [
              "CIFAR10Classifier(\n",
              "  (conv1): Conv2d(3, 16, kernel_size=(3, 3), stride=(1, 1), padding=(1, 1))\n",
              "  (conv2): Conv2d(16, 32, kernel_size=(3, 3), stride=(1, 1), padding=(1, 1))\n",
              "  (conv3): Conv2d(32, 64, kernel_size=(3, 3), stride=(1, 1), padding=(1, 1))\n",
              "  (pool): MaxPool2d(kernel_size=2, stride=2, padding=0, dilation=1, ceil_mode=False)\n",
              "  (fc1): Linear(in_features=1024, out_features=128, bias=True)\n",
              "  (fc2): Linear(in_features=128, out_features=64, bias=True)\n",
              "  (fc3): Linear(in_features=64, out_features=10, bias=True)\n",
              "  (dropout): Dropout(p=0.25, inplace=False)\n",
              ")"
            ]
          },
          "metadata": {},
          "execution_count": 19
        }
      ]
    },
    {
      "cell_type": "code",
      "source": [
        "# Training loop\n",
        "num_epochs = 15\n",
        "\n",
        "for epoch in range(num_epochs):\n",
        "    for i, (images, labels) in enumerate(trainloader):\n",
        "      images = images.to(device)\n",
        "      labels = labels.to(device)\n",
        "\n",
        "\n",
        "      # Forward pass\n",
        "      outputs = model(images)\n",
        "      loss = criterion(outputs, labels)\n",
        "\n",
        "      # Backward and optimize\n",
        "      optimizer.zero_grad()\n",
        "      loss.backward()\n",
        "      optimizer.step()\n",
        "\n",
        "      if (i+1) % 100 == 0:\n",
        "          print(f'Epoch [{epoch+1}/{num_epochs}], Step [{i+1}/{len(trainloader)}], Loss: {loss.item():.4f}')\n",
        "\n",
        "# Testing loop\n",
        "model.eval()\n",
        "with torch.no_grad():\n",
        "    correct = 0\n",
        "    total = 0\n",
        "    for images, labels in testloader:\n",
        "      images = images.to(device)\n",
        "      labels = labels.to(device)\n",
        "\n",
        "      outputs = model(images)\n",
        "      _, predicted = torch.max(outputs.data, 1)\n",
        "      total += labels.size(0)\n",
        "      correct += (predicted == labels).sum().item()\n",
        "\n",
        "    print(f'Test Accuracy: {(correct/total)*100:.2f}%')"
      ],
      "metadata": {
        "colab": {
          "base_uri": "https://localhost:8080/"
        },
        "id": "YRIvgKxQ5tri",
        "outputId": "6e9e9ab3-d2f6-410e-e039-e68293346a1b"
      },
      "execution_count": 20,
      "outputs": [
        {
          "output_type": "stream",
          "name": "stdout",
          "text": [
            "Epoch [1/15], Step [100/391], Loss: 1.7077\n",
            "Epoch [1/15], Step [200/391], Loss: 1.4432\n",
            "Epoch [1/15], Step [300/391], Loss: 1.3317\n",
            "Epoch [2/15], Step [100/391], Loss: 1.2566\n",
            "Epoch [2/15], Step [200/391], Loss: 1.1805\n",
            "Epoch [2/15], Step [300/391], Loss: 1.0329\n",
            "Epoch [3/15], Step [100/391], Loss: 1.2803\n",
            "Epoch [3/15], Step [200/391], Loss: 1.0244\n",
            "Epoch [3/15], Step [300/391], Loss: 1.1631\n",
            "Epoch [4/15], Step [100/391], Loss: 1.1373\n",
            "Epoch [4/15], Step [200/391], Loss: 0.9350\n",
            "Epoch [4/15], Step [300/391], Loss: 1.0310\n",
            "Epoch [5/15], Step [100/391], Loss: 0.8708\n",
            "Epoch [5/15], Step [200/391], Loss: 0.9341\n",
            "Epoch [5/15], Step [300/391], Loss: 0.8492\n",
            "Epoch [6/15], Step [100/391], Loss: 0.6979\n",
            "Epoch [6/15], Step [200/391], Loss: 1.0030\n",
            "Epoch [6/15], Step [300/391], Loss: 0.9383\n",
            "Epoch [7/15], Step [100/391], Loss: 0.8737\n",
            "Epoch [7/15], Step [200/391], Loss: 1.0162\n",
            "Epoch [7/15], Step [300/391], Loss: 0.8697\n",
            "Epoch [8/15], Step [100/391], Loss: 0.7125\n",
            "Epoch [8/15], Step [200/391], Loss: 0.6297\n",
            "Epoch [8/15], Step [300/391], Loss: 0.9265\n",
            "Epoch [9/15], Step [100/391], Loss: 0.8460\n",
            "Epoch [9/15], Step [200/391], Loss: 0.9204\n",
            "Epoch [9/15], Step [300/391], Loss: 0.9806\n",
            "Epoch [10/15], Step [100/391], Loss: 0.7845\n",
            "Epoch [10/15], Step [200/391], Loss: 0.9108\n",
            "Epoch [10/15], Step [300/391], Loss: 0.6783\n",
            "Epoch [11/15], Step [100/391], Loss: 0.8261\n",
            "Epoch [11/15], Step [200/391], Loss: 0.8919\n",
            "Epoch [11/15], Step [300/391], Loss: 0.8196\n",
            "Epoch [12/15], Step [100/391], Loss: 0.8111\n",
            "Epoch [12/15], Step [200/391], Loss: 0.6825\n",
            "Epoch [12/15], Step [300/391], Loss: 0.7806\n",
            "Epoch [13/15], Step [100/391], Loss: 0.6566\n",
            "Epoch [13/15], Step [200/391], Loss: 0.8802\n",
            "Epoch [13/15], Step [300/391], Loss: 0.6880\n",
            "Epoch [14/15], Step [100/391], Loss: 0.6440\n",
            "Epoch [14/15], Step [200/391], Loss: 0.7143\n",
            "Epoch [14/15], Step [300/391], Loss: 0.7837\n",
            "Epoch [15/15], Step [100/391], Loss: 0.8150\n",
            "Epoch [15/15], Step [200/391], Loss: 0.8141\n",
            "Epoch [15/15], Step [300/391], Loss: 0.8103\n",
            "Test Accuracy: 73.19%\n"
          ]
        }
      ]
    },
    {
      "cell_type": "code",
      "source": [],
      "metadata": {
        "id": "iKrp1g0H530b"
      },
      "execution_count": 20,
      "outputs": []
    }
  ]
}